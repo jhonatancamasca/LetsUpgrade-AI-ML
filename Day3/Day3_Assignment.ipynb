{
  "nbformat": 4,
  "nbformat_minor": 0,
  "metadata": {
    "colab": {
      "name": "Day3_Assignment.ipynb",
      "provenance": []
    },
    "kernelspec": {
      "name": "python3",
      "display_name": "Python 3"
    }
  },
  "cells": [
    {
      "cell_type": "markdown",
      "metadata": {
        "id": "DDjI4IwVWkRn",
        "colab_type": "text"
      },
      "source": [
        "Question 1 :\n",
        "Write a program to subtract two complex numbers in **Python**"
      ]
    },
    {
      "cell_type": "code",
      "metadata": {
        "id": "Ew-Hj5PG_wp0",
        "colab_type": "code",
        "colab": {}
      },
      "source": [
        "def subtraction_complex():\n",
        "  arr=[]\n",
        "  for i in range(1,3):\n",
        "\n",
        "    var=complex(input('Ingresa un numero complejo: '))\n",
        "    arr.append(var)\n",
        "    \n",
        "  \n",
        "  return 'The substraction between those numbers is:',arr[0]-arr[1]\n",
        "\n"
      ],
      "execution_count": 68,
      "outputs": []
    },
    {
      "cell_type": "code",
      "metadata": {
        "id": "p-L3SR9Z_7gR",
        "colab_type": "code",
        "colab": {
          "base_uri": "https://localhost:8080/",
          "height": 67
        },
        "outputId": "d073d8f0-fd4a-410f-a7fe-b3d5511fdb5c"
      },
      "source": [
        "subtraction_complex()\n",
        "\n"
      ],
      "execution_count": 69,
      "outputs": [
        {
          "output_type": "stream",
          "text": [
            "Ingresa un numero complejo: 6+3j\n",
            "Ingresa un numero complejo: 7+2j\n"
          ],
          "name": "stdout"
        },
        {
          "output_type": "execute_result",
          "data": {
            "text/plain": [
              "('The substraction between those numbers is:', (-1+1j))"
            ]
          },
          "metadata": {
            "tags": []
          },
          "execution_count": 69
        }
      ]
    },
    {
      "cell_type": "markdown",
      "metadata": {
        "id": "W4X7qsnEXMYe",
        "colab_type": "text"
      },
      "source": [
        "Question 2 :\n",
        "Write a program to find the fourth root of a number."
      ]
    },
    {
      "cell_type": "code",
      "metadata": {
        "id": "UbslS3BXXM83",
        "colab_type": "code",
        "colab": {}
      },
      "source": [
        "def root_numb(number):\n",
        "  print( 'the fourth root of',str(number),'is : ',number**(1/4))\n"
      ],
      "execution_count": 64,
      "outputs": []
    },
    {
      "cell_type": "code",
      "metadata": {
        "id": "gW7IdKb-X4WP",
        "colab_type": "code",
        "colab": {
          "base_uri": "https://localhost:8080/",
          "height": 34
        },
        "outputId": "0935ac3f-4046-4724-dc91-6b1bd7cd3dd2"
      },
      "source": [
        "root_numb(81)"
      ],
      "execution_count": 65,
      "outputs": [
        {
          "output_type": "stream",
          "text": [
            "the fourth root of 81 is :  3.0\n"
          ],
          "name": "stdout"
        }
      ]
    },
    {
      "cell_type": "markdown",
      "metadata": {
        "id": "WUkQPxb9YQyp",
        "colab_type": "text"
      },
      "source": [
        "Question 3:\n",
        "Write a program to swap two numbers in Python with the help of a temporary variable."
      ]
    },
    {
      "cell_type": "code",
      "metadata": {
        "id": "K_VA3kQvYBam",
        "colab_type": "code",
        "colab": {}
      },
      "source": [
        "def swap_Temp(x,y):\n",
        "\n",
        "  temp = x\n",
        "  x = y\n",
        "  y = temp\n",
        "\n",
        "  print('The value of the first number after swapping: {}'.format(x))\n",
        "  print('The value of the second number after swapping: {}'.format(y))"
      ],
      "execution_count": 72,
      "outputs": []
    },
    {
      "cell_type": "code",
      "metadata": {
        "id": "VZL7epwDagfZ",
        "colab_type": "code",
        "colab": {
          "base_uri": "https://localhost:8080/",
          "height": 50
        },
        "outputId": "78515e2b-b85c-4a4f-eda3-4d9408f9c5b8"
      },
      "source": [
        "swap_Temp(7,8)"
      ],
      "execution_count": 73,
      "outputs": [
        {
          "output_type": "stream",
          "text": [
            "The value of the first number after swapping: 8\n",
            "The value of the second number after swapping: 7\n"
          ],
          "name": "stdout"
        }
      ]
    },
    {
      "cell_type": "markdown",
      "metadata": {
        "id": "vMXdRMrmZspu",
        "colab_type": "text"
      },
      "source": [
        "Question 4:\n",
        "Write a program to swap two numbers in Python without using a temporary variable."
      ]
    },
    {
      "cell_type": "code",
      "metadata": {
        "id": "f1EXQnO9ZXCv",
        "colab_type": "code",
        "colab": {}
      },
      "source": [
        "def swap_no_Temp(x,y):\n",
        "\n",
        "  x, y = y,x\n",
        "  print('The value of the first number after swapping: {}'.format(x))\n",
        "  print('The value of the second number after swapping: {}'.format(y))"
      ],
      "execution_count": 74,
      "outputs": []
    },
    {
      "cell_type": "code",
      "metadata": {
        "id": "KC3QEBLgar_w",
        "colab_type": "code",
        "colab": {
          "base_uri": "https://localhost:8080/",
          "height": 50
        },
        "outputId": "a6652682-67f0-4240-e36a-71d4acb9ee50"
      },
      "source": [
        "swap_no_Temp(7,8)"
      ],
      "execution_count": 75,
      "outputs": [
        {
          "output_type": "stream",
          "text": [
            "The value of the first number after swapping: 8\n",
            "The value of the second number after swapping: 7\n"
          ],
          "name": "stdout"
        }
      ]
    },
    {
      "cell_type": "markdown",
      "metadata": {
        "id": "WLc0AzclaLFg",
        "colab_type": "text"
      },
      "source": [
        "Question 5:\n",
        "Write a program to convert fahrenheit to kelvin and celsius both"
      ]
    },
    {
      "cell_type": "code",
      "metadata": {
        "id": "xUKpis5GZtHF",
        "colab_type": "code",
        "colab": {}
      },
      "source": [
        "def conversion(scale,value_scale):\n",
        "  'scale:The user must indicates if the scale to be obtained ist kelvion or celsius'\n",
        "  'value_scale:The user must indicates if the fahrenheit scale value'\n",
        "  if scale=='celsius':\n",
        "    cal=(value_scale - 32) * 5/9\n",
        "  if scale=='kelvin':\n",
        "    cal=((value_scale - 32) * 5/9 + 273.15) \n",
        "  print(value_scale,'fahrenheit --->',scale,'ist: ',cal,scale)\n",
        "\n"
      ],
      "execution_count": 106,
      "outputs": []
    },
    {
      "cell_type": "code",
      "metadata": {
        "id": "53bZGfyncmCJ",
        "colab_type": "code",
        "colab": {
          "base_uri": "https://localhost:8080/",
          "height": 34
        },
        "outputId": "d38ca564-be1d-446d-daed-2fee71fcaecd"
      },
      "source": [
        "conversion('kelvin',32)"
      ],
      "execution_count": 107,
      "outputs": [
        {
          "output_type": "stream",
          "text": [
            "32 fahrenheit ---> kelvin ist:  273.15 kelvin\n"
          ],
          "name": "stdout"
        }
      ]
    },
    {
      "cell_type": "code",
      "metadata": {
        "id": "K2FI6abFc5Zm",
        "colab_type": "code",
        "colab": {
          "base_uri": "https://localhost:8080/",
          "height": 34
        },
        "outputId": "d4f2fcbe-469c-4d0d-bbc3-2f0c79625fff"
      },
      "source": [
        "conversion('celsius',32)"
      ],
      "execution_count": 108,
      "outputs": [
        {
          "output_type": "stream",
          "text": [
            "32 fahrenheit ---> celsius ist:  0.0 celsius\n"
          ],
          "name": "stdout"
        }
      ]
    },
    {
      "cell_type": "markdown",
      "metadata": {
        "id": "bJRZGv-lehN5",
        "colab_type": "text"
      },
      "source": [
        "Question 6:\n",
        "Write a program to demonstrate all the available data types in Python. Hint: Use type() function"
      ]
    },
    {
      "cell_type": "code",
      "metadata": {
        "id": "XCsCTTz1c8A2",
        "colab_type": "code",
        "colab": {}
      },
      "source": [
        "def data_types():\n",
        "  print('The standard data types')\n",
        "  print('1. Numbers :')\n",
        "  print(' ',4,' -->',(type(4)))\n",
        "  print(' ',4+3j,' -->',(type(4+3j)))\n",
        "  print(' ',6.777,' -->',(type(6.7777)))\n",
        "\n",
        "  print('String')\n",
        "  print(' ','Hello',' -->',(type('Hello')))\n",
        "\n",
        "  print('List')\n",
        "  print(' ','[4,5,6]',' -->',(type([4,6,5])))\n",
        "  print('Dictionary')\n",
        "  print(' ',\"{1:'hi',2:' world'}\",' -->',(type({1:'hi',2:' world'})))\n",
        "  print('Tuple')\n",
        "  print(' ',\"(1, 2, 3, 4, 5 )\",' -->',(type((1, 2, 3, 4, 5 ))))\n",
        "\n",
        "\n",
        "\n",
        "\n"
      ],
      "execution_count": 150,
      "outputs": []
    },
    {
      "cell_type": "code",
      "metadata": {
        "id": "SbuS81z6gtHN",
        "colab_type": "code",
        "colab": {
          "base_uri": "https://localhost:8080/",
          "height": 235
        },
        "outputId": "f2a53fd8-e944-433c-d51a-f8dd3be88d07"
      },
      "source": [
        "data_types()"
      ],
      "execution_count": 151,
      "outputs": [
        {
          "output_type": "stream",
          "text": [
            "The standard data types\n",
            "1. Numbers :\n",
            "  4  --> <class 'int'>\n",
            "  (4+3j)  --> <class 'complex'>\n",
            "  6.777  --> <class 'float'>\n",
            "String\n",
            "  Hello  --> <class 'str'>\n",
            "List\n",
            "  [4,5,6]  --> <class 'list'>\n",
            "List\n",
            "  {1:'hi',2:' world'}  --> <class 'dict'>\n",
            "Tuple\n",
            "  (1, 2, 3, 4, 5 )  --> <class 'tuple'>\n"
          ],
          "name": "stdout"
        }
      ]
    },
    {
      "cell_type": "markdown",
      "metadata": {
        "id": "Yhl_A1Cknx2Z",
        "colab_type": "text"
      },
      "source": [
        "Question 7:\n",
        "Create a Markdown cell in jupyter and list the steps discussed in the session by Dr. Darshan\n",
        "Ingle sir to create Github profile and upload Githubs Assignment link."
      ]
    },
    {
      "cell_type": "markdown",
      "metadata": {
        "id": "GXJYqBqwn3Vv",
        "colab_type": "text"
      },
      "source": [
        "1. Create a Github profile\n",
        "2. Create a new repository with the name : LetsUpgrade-AI-ML (compulsory), and the subject Assignments and set to be public\n",
        "3. Upload the file (that is a named after the day of the assignment)\n",
        "4. Then copy the URL to the registration form\n",
        "\n"
      ]
    },
    {
      "cell_type": "code",
      "metadata": {
        "id": "KLHEFRgiqBVV",
        "colab_type": "code",
        "colab": {}
      },
      "source": [
        ""
      ],
      "execution_count": null,
      "outputs": []
    }
  ]
}
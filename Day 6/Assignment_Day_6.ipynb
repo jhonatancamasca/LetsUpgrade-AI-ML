{
  "nbformat": 4,
  "nbformat_minor": 0,
  "metadata": {
    "colab": {
      "name": "Assignment Day 6.ipynb",
      "provenance": []
    },
    "kernelspec": {
      "name": "python3",
      "display_name": "Python 3"
    }
  },
  "cells": [
    {
      "cell_type": "markdown",
      "metadata": {
        "id": "uHS3E0sVqwU7",
        "colab_type": "text"
      },
      "source": [
        "Assignment Day 6"
      ]
    },
    {
      "cell_type": "markdown",
      "metadata": {
        "id": "20PGURp_qftO",
        "colab_type": "text"
      },
      "source": [
        " Question 1:\n",
        "Assuming that we have some email addresses in the \"username@companyname.com\" format, please write program\n",
        "to print the company name of a given email address. Both user names and company names are composed of letters\n",
        "only."
      ]
    },
    {
      "cell_type": "code",
      "metadata": {
        "id": "8-OsrUB6l_53",
        "colab_type": "code",
        "colab": {}
      },
      "source": [
        "emails=['frank@google.com','martin@amazon.com','chris@ebay.com','chris@ibm.com','chris@apple.com','chris@motorola.com']"
      ],
      "execution_count": 29,
      "outputs": []
    },
    {
      "cell_type": "code",
      "metadata": {
        "id": "DDbXXTx7mazw",
        "colab_type": "code",
        "colab": {
          "base_uri": "https://localhost:8080/",
          "height": 119
        },
        "outputId": "c7771010-9d9a-422c-88b9-1d9f33d78ef9"
      },
      "source": [
        "for sentence in emails:\n",
        "  for element in sentence.split('@'):\n",
        "    if element.split('.')[-1]=='com':\n",
        "      print(element.split('.')[0])\n",
        "    \n",
        "    \n"
      ],
      "execution_count": 31,
      "outputs": [
        {
          "output_type": "stream",
          "text": [
            "google\n",
            "amazon\n",
            "ebay\n",
            "ibm\n",
            "apple\n",
            "motorola\n"
          ],
          "name": "stdout"
        }
      ]
    },
    {
      "cell_type": "markdown",
      "metadata": {
        "id": "Pgbp6HLSqk5C",
        "colab_type": "text"
      },
      "source": [
        "Question 2:\n",
        "Write a program that accepts a comma-separated sequence of words as input and prints the words in a comma\n",
        "separated sequence after sorting them alphabetically."
      ]
    },
    {
      "cell_type": "code",
      "metadata": {
        "id": "Uu5znsc2nERO",
        "colab_type": "code",
        "colab": {}
      },
      "source": [
        "char='without,hello,bag,world'\n",
        "nw_char=char.split(',')\n",
        "nw_char.sort()\n",
        "char_nw=','.join(nw_char)"
      ],
      "execution_count": 44,
      "outputs": []
    },
    {
      "cell_type": "code",
      "metadata": {
        "id": "HKIWqWkAqvOn",
        "colab_type": "code",
        "colab": {
          "base_uri": "https://localhost:8080/",
          "height": 35
        },
        "outputId": "05319db9-3916-4949-8c7e-a1d2b565aded"
      },
      "source": [
        "char_nw"
      ],
      "execution_count": 45,
      "outputs": [
        {
          "output_type": "execute_result",
          "data": {
            "application/vnd.google.colaboratory.intrinsic": {
              "type": "string"
            },
            "text/plain": [
              "'bag,hello,without,world'"
            ]
          },
          "metadata": {
            "tags": []
          },
          "execution_count": 45
        }
      ]
    },
    {
      "cell_type": "markdown",
      "metadata": {
        "id": "ElzTayDcs-Rf",
        "colab_type": "text"
      },
      "source": [
        "Question 3:\n",
        "Create your own Jupyter Notebook for Sets.\n",
        "Reference link: https://www.w3schools.com/python/python_sets.asp"
      ]
    },
    {
      "cell_type": "markdown",
      "metadata": {
        "id": "w6LxAL-Rxj1M",
        "colab_type": "text"
      },
      "source": [
        "#Set"
      ]
    },
    {
      "cell_type": "markdown",
      "metadata": {
        "id": "vG8k_cKWE-bW",
        "colab_type": "text"
      },
      "source": [
        "Please see the Notebook called Assignment Day 6_Set.ipynb"
      ]
    },
    {
      "cell_type": "markdown",
      "metadata": {
        "id": "VUKP9Msis_wJ",
        "colab_type": "text"
      },
      "source": [
        "Question 4:\n",
        "Given a list of n-1 numbers ranging from 1 to n, your task is to find the missing number. There are no duplicates"
      ]
    },
    {
      "cell_type": "code",
      "metadata": {
        "id": "LMcYtU3EtGgg",
        "colab_type": "code",
        "colab": {
          "base_uri": "https://localhost:8080/",
          "height": 187
        },
        "outputId": "b6acdc40-39ce-4aa0-d0c7-e2e1ce2ce237"
      },
      "source": [
        "numbers=[1,2,4,5,7,8,9,2,1,6,11,20]\n",
        "uniq_list=list(set(numbers))\n",
        "for i in range(1,max(numbers)):\n",
        "  if i not in  uniq_list:\n",
        "    print('missing number',i)"
      ],
      "execution_count": 52,
      "outputs": [
        {
          "output_type": "stream",
          "text": [
            "missing number 3\n",
            "missing number 10\n",
            "missing number 12\n",
            "missing number 13\n",
            "missing number 14\n",
            "missing number 15\n",
            "missing number 16\n",
            "missing number 17\n",
            "missing number 18\n",
            "missing number 19\n"
          ],
          "name": "stdout"
        }
      ]
    },
    {
      "cell_type": "markdown",
      "metadata": {
        "id": "W_LoUyuPtFvo",
        "colab_type": "text"
      },
      "source": [
        "Question 5:\n",
        "With a given list L, write a program to print this list L after removing all duplicate values with original order reserved."
      ]
    },
    {
      "cell_type": "code",
      "metadata": {
        "id": "LtqeCUAuq8yz",
        "colab_type": "code",
        "colab": {}
      },
      "source": [
        "numbers=[12, 24, 35, 24, 88, 120, 155, 88, 120, 155]\n",
        "ord_list=list(set(numbers))\n",
        "ord_list.sort()"
      ],
      "execution_count": 53,
      "outputs": []
    },
    {
      "cell_type": "code",
      "metadata": {
        "id": "fsnKPzlav4Ri",
        "colab_type": "code",
        "colab": {
          "base_uri": "https://localhost:8080/",
          "height": 34
        },
        "outputId": "21895a9a-b938-4443-e15f-8fcb92af4242"
      },
      "source": [
        "ord_list"
      ],
      "execution_count": 56,
      "outputs": [
        {
          "output_type": "execute_result",
          "data": {
            "text/plain": [
              "[12, 24, 35, 88, 120, 155]"
            ]
          },
          "metadata": {
            "tags": []
          },
          "execution_count": 56
        }
      ]
    }
  ]
}
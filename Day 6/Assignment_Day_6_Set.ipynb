{
  "nbformat": 4,
  "nbformat_minor": 0,
  "metadata": {
    "colab": {
      "name": "Assignment Day 6_Set.ipynb",
      "provenance": []
    },
    "kernelspec": {
      "name": "python3",
      "display_name": "Python 3"
    }
  },
  "cells": [
    {
      "cell_type": "markdown",
      "metadata": {
        "id": "NbruJbyR08HU",
        "colab_type": "text"
      },
      "source": [
        "#Define a Set"
      ]
    },
    {
      "cell_type": "code",
      "metadata": {
        "id": "YzgIxSiq0xtW",
        "colab_type": "code",
        "colab": {
          "base_uri": "https://localhost:8080/",
          "height": 34
        },
        "outputId": "6a82fc82-132c-46ee-f53c-5a8c18fc7553"
      },
      "source": [
        "sset = {\"food\", \"drink\", \"chicken\",'vegetables'}\n",
        "print(thisset)"
      ],
      "execution_count": 28,
      "outputs": [
        {
          "output_type": "stream",
          "text": [
            "set()\n"
          ],
          "name": "stdout"
        }
      ]
    },
    {
      "cell_type": "markdown",
      "metadata": {
        "id": "f4Rrv1RN1hGi",
        "colab_type": "text"
      },
      "source": [
        "#Iterate through items"
      ]
    },
    {
      "cell_type": "code",
      "metadata": {
        "id": "SCKIkZ6D09Lx",
        "colab_type": "code",
        "colab": {
          "base_uri": "https://localhost:8080/",
          "height": 85
        },
        "outputId": "ff20341c-dde8-45f9-9e95-1176c1774b3f"
      },
      "source": [
        "for x in sset:\n",
        "  print(x)"
      ],
      "execution_count": 29,
      "outputs": [
        {
          "output_type": "stream",
          "text": [
            "vegetables\n",
            "drink\n",
            "chicken\n",
            "food\n"
          ],
          "name": "stdout"
        }
      ]
    },
    {
      "cell_type": "markdown",
      "metadata": {
        "id": "7SVsyoc9-DpO",
        "colab_type": "text"
      },
      "source": [
        "#Add itemes"
      ]
    },
    {
      "cell_type": "code",
      "metadata": {
        "id": "VJY7rif11zDN",
        "colab_type": "code",
        "colab": {}
      },
      "source": [
        "sset.add(\"chinese food\")"
      ],
      "execution_count": 30,
      "outputs": []
    },
    {
      "cell_type": "code",
      "metadata": {
        "id": "K2JdkLGO-GzK",
        "colab_type": "code",
        "colab": {
          "base_uri": "https://localhost:8080/",
          "height": 34
        },
        "outputId": "6ae2c6b3-13a9-4c5d-e923-352e22a5bf68"
      },
      "source": [
        "sset"
      ],
      "execution_count": 31,
      "outputs": [
        {
          "output_type": "execute_result",
          "data": {
            "text/plain": [
              "{'chicken', 'chinese food', 'drink', 'food', 'vegetables'}"
            ]
          },
          "metadata": {
            "tags": []
          },
          "execution_count": 31
        }
      ]
    },
    {
      "cell_type": "markdown",
      "metadata": {
        "id": "CVFQlZ1H-iQU",
        "colab_type": "text"
      },
      "source": [
        "#Add multiple itmes\n"
      ]
    },
    {
      "cell_type": "code",
      "metadata": {
        "id": "KejDs-vj-KkK",
        "colab_type": "code",
        "colab": {
          "base_uri": "https://localhost:8080/",
          "height": 34
        },
        "outputId": "13bd2702-b1eb-444a-f435-c60185211edb"
      },
      "source": [
        "sset.update([\"japanese food\", \"indian food\", \"junk food\"])\n",
        "\n",
        "print(sset)"
      ],
      "execution_count": 32,
      "outputs": [
        {
          "output_type": "stream",
          "text": [
            "{'indian food', 'food', 'chinese food', 'japanese food', 'drink', 'vegetables', 'chicken', 'junk food'}\n"
          ],
          "name": "stdout"
        }
      ]
    },
    {
      "cell_type": "markdown",
      "metadata": {
        "id": "1uR04kUx_oBX",
        "colab_type": "text"
      },
      "source": [
        "Lenght of the set"
      ]
    },
    {
      "cell_type": "code",
      "metadata": {
        "id": "vb-UtSHU_h6C",
        "colab_type": "code",
        "colab": {
          "base_uri": "https://localhost:8080/",
          "height": 34
        },
        "outputId": "fe2ff303-27e2-4859-e81d-9d219ddac718"
      },
      "source": [
        "print(len(sset))"
      ],
      "execution_count": 33,
      "outputs": [
        {
          "output_type": "stream",
          "text": [
            "8\n"
          ],
          "name": "stdout"
        }
      ]
    },
    {
      "cell_type": "markdown",
      "metadata": {
        "id": "HKUnjUZLAHrj",
        "colab_type": "text"
      },
      "source": [
        "#Remove items"
      ]
    },
    {
      "cell_type": "code",
      "metadata": {
        "id": "Lbhn7DOkAICS",
        "colab_type": "code",
        "colab": {}
      },
      "source": [
        "sset.remove(\"japanese food\")"
      ],
      "execution_count": 34,
      "outputs": []
    },
    {
      "cell_type": "code",
      "metadata": {
        "id": "fFjaHIi2AOgO",
        "colab_type": "code",
        "colab": {
          "base_uri": "https://localhost:8080/",
          "height": 136
        },
        "outputId": "e25ac829-4920-4c18-ba40-07773290ca3b"
      },
      "source": [
        "sset"
      ],
      "execution_count": 35,
      "outputs": [
        {
          "output_type": "execute_result",
          "data": {
            "text/plain": [
              "{'chicken',\n",
              " 'chinese food',\n",
              " 'drink',\n",
              " 'food',\n",
              " 'indian food',\n",
              " 'junk food',\n",
              " 'vegetables'}"
            ]
          },
          "metadata": {
            "tags": []
          },
          "execution_count": 35
        }
      ]
    },
    {
      "cell_type": "code",
      "metadata": {
        "id": "jBmrYDVwAPV-",
        "colab_type": "code",
        "colab": {}
      },
      "source": [
        "sset.discard(\"food\")"
      ],
      "execution_count": 36,
      "outputs": []
    },
    {
      "cell_type": "markdown",
      "metadata": {
        "id": "3RzdtrdQAnhv",
        "colab_type": "text"
      },
      "source": [
        "#Function pop"
      ]
    },
    {
      "cell_type": "code",
      "metadata": {
        "id": "56YYvz4AAb9A",
        "colab_type": "code",
        "colab": {
          "base_uri": "https://localhost:8080/",
          "height": 35
        },
        "outputId": "5c8c8aa8-56ca-426f-b97d-3ca73d9a0014"
      },
      "source": [
        "sset.pop()"
      ],
      "execution_count": 37,
      "outputs": [
        {
          "output_type": "execute_result",
          "data": {
            "application/vnd.google.colaboratory.intrinsic": {
              "type": "string"
            },
            "text/plain": [
              "'indian food'"
            ]
          },
          "metadata": {
            "tags": []
          },
          "execution_count": 37
        }
      ]
    },
    {
      "cell_type": "markdown",
      "metadata": {
        "id": "wIoUVrOwBGDQ",
        "colab_type": "text"
      },
      "source": [
        "#Empty the set"
      ]
    },
    {
      "cell_type": "code",
      "metadata": {
        "id": "9sLiZ989Ap-L",
        "colab_type": "code",
        "colab": {}
      },
      "source": [
        "sset.clear()"
      ],
      "execution_count": 38,
      "outputs": []
    },
    {
      "cell_type": "markdown",
      "metadata": {
        "id": "mm-32pDGBSGA",
        "colab_type": "text"
      },
      "source": [
        "#Delete the set"
      ]
    },
    {
      "cell_type": "code",
      "metadata": {
        "id": "r-pEmc4TBAFW",
        "colab_type": "code",
        "colab": {}
      },
      "source": [
        "del thisset"
      ],
      "execution_count": 39,
      "outputs": []
    },
    {
      "cell_type": "markdown",
      "metadata": {
        "id": "HopjPolmBa9E",
        "colab_type": "text"
      },
      "source": [
        "#Join two sets"
      ]
    },
    {
      "cell_type": "code",
      "metadata": {
        "id": "WUoeNEN7BU9I",
        "colab_type": "code",
        "colab": {}
      },
      "source": [
        "set1 = {\"c\", \"d\" , \"e\"}\n",
        "set2 = {1, 2, 3}\n",
        "\n",
        "set3 = set1.union(set2)"
      ],
      "execution_count": 41,
      "outputs": []
    },
    {
      "cell_type": "code",
      "metadata": {
        "id": "X16k42w9CEDC",
        "colab_type": "code",
        "colab": {
          "base_uri": "https://localhost:8080/",
          "height": 34
        },
        "outputId": "5fb69950-739b-4204-fc74-02fb44ae730d"
      },
      "source": [
        "set3"
      ],
      "execution_count": 42,
      "outputs": [
        {
          "output_type": "execute_result",
          "data": {
            "text/plain": [
              "{1, 2, 3, 'c', 'd', 'e'}"
            ]
          },
          "metadata": {
            "tags": []
          },
          "execution_count": 42
        }
      ]
    },
    {
      "cell_type": "markdown",
      "metadata": {
        "id": "AoHRVVgYCN3m",
        "colab_type": "text"
      },
      "source": [
        "#Creating a set"
      ]
    },
    {
      "cell_type": "code",
      "metadata": {
        "id": "Qq6pq_H7CJBU",
        "colab_type": "code",
        "colab": {
          "base_uri": "https://localhost:8080/",
          "height": 34
        },
        "outputId": "b19d268a-1a03-4541-8158-5a0333ae5fb8"
      },
      "source": [
        "sset1 = set((\"USA\", \"INDIA\", \"GERMANY\"))\n",
        "sset1"
      ],
      "execution_count": 43,
      "outputs": [
        {
          "output_type": "execute_result",
          "data": {
            "text/plain": [
              "{'GERMANY', 'INDIA', 'USA'}"
            ]
          },
          "metadata": {
            "tags": []
          },
          "execution_count": 43
        }
      ]
    }
  ]
}
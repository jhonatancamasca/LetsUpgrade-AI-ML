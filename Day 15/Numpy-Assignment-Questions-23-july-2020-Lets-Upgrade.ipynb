{
 "cells": [
  {
   "cell_type": "markdown",
   "metadata": {
    "colab_type": "text",
    "id": "D-is1LjeqhSh"
   },
   "source": [
    "# 1. Create a 3x3x3 array with random values "
   ]
  },
  {
   "cell_type": "code",
   "execution_count": 1,
   "metadata": {
    "colab": {},
    "colab_type": "code",
    "id": "1ehvH09dqhSi"
   },
   "outputs": [
    {
     "name": "stdout",
     "output_type": "stream",
     "text": [
      "[[[0.29085919 0.80930863 0.5892337 ]\n",
      "  [0.03748368 0.32430765 0.85944066]\n",
      "  [0.53529597 0.89889559 0.50235821]]\n",
      "\n",
      " [[0.92980972 0.02966388 0.16093539]\n",
      "  [0.1499899  0.10287734 0.16790524]\n",
      "  [0.9597702  0.67526648 0.85466392]]\n",
      "\n",
      " [[0.98585799 0.62365582 0.89908711]\n",
      "  [0.6142092  0.34017688 0.89203978]\n",
      "  [0.78431694 0.05212526 0.89804427]]]\n"
     ]
    }
   ],
   "source": [
    "import numpy as np\n",
    "array = np.random.random((3,3,3))\n",
    "print(array)"
   ]
  },
  {
   "cell_type": "markdown",
   "metadata": {
    "colab_type": "text",
    "id": "B3L2_egwqhSm"
   },
   "source": [
    "# 2.Create a 5x5 matrix with values 1,2,3,4 just below the diagonal"
   ]
  },
  {
   "cell_type": "code",
   "execution_count": 5,
   "metadata": {
    "colab": {},
    "colab_type": "code",
    "id": "tKBPlEGwqhSn"
   },
   "outputs": [
    {
     "name": "stdout",
     "output_type": "stream",
     "text": [
      "[[0 0 0 0 0]\n",
      " [1 0 0 0 0]\n",
      " [0 2 0 0 0]\n",
      " [0 0 3 0 0]\n",
      " [0 0 0 4 0]]\n"
     ]
    }
   ],
   "source": [
    "matrix = np.diag(1+np.arange(4),k=-1)\n",
    "print(matrix)"
   ]
  },
  {
   "cell_type": "markdown",
   "metadata": {
    "colab_type": "text",
    "id": "Q0XRo2ZGqhSq"
   },
   "source": [
    "# 3.Create a 8x8 matrix and fill it with a checkerboard pattern"
   ]
  },
  {
   "cell_type": "code",
   "execution_count": 18,
   "metadata": {
    "colab": {},
    "colab_type": "code",
    "id": "gv7Wh3i5qhSq"
   },
   "outputs": [
    {
     "name": "stdout",
     "output_type": "stream",
     "text": [
      "[[0 1 0 1 0 1 0 1]\n",
      " [1 0 1 0 1 0 1 0]\n",
      " [0 1 0 1 0 1 0 1]\n",
      " [1 0 1 0 1 0 1 0]\n",
      " [0 1 0 1 0 1 0 1]\n",
      " [1 0 1 0 1 0 1 0]\n",
      " [0 1 0 1 0 1 0 1]\n",
      " [1 0 1 0 1 0 1 0]]\n"
     ]
    }
   ],
   "source": [
    "import numpy as np\n",
    "matrix = np.zeros((8,8),dtype=int)\n",
    "matrix[1::2,::2] = 1\n",
    "matrix[::2,1::2] = 1\n",
    "print(matrix)"
   ]
  },
  {
   "cell_type": "markdown",
   "metadata": {
    "colab_type": "text",
    "id": "6SvvDOetqhSs"
   },
   "source": [
    "# 4. Normalize a 5x5 random matrix"
   ]
  },
  {
   "cell_type": "code",
   "execution_count": 23,
   "metadata": {
    "colab": {},
    "colab_type": "code",
    "id": "0KrrSZHGqhSt"
   },
   "outputs": [
    {
     "name": "stdout",
     "output_type": "stream",
     "text": [
      "Original Matrix: \n",
      "[[0.94699797 0.07071522 0.74913188 0.8596346  0.69627523]\n",
      " [0.54798697 0.22467776 0.05295488 0.2263679  0.65795916]\n",
      " [0.62344044 0.28018229 0.99038871 0.56178109 0.82755939]\n",
      " [0.6187267  0.5199661  0.15499505 0.68630046 0.07973193]\n",
      " [0.85826306 0.1496014  0.82563273 0.95895743 0.67209856]]\n",
      "Normalized Matrix: \n",
      "[[0.95371328 0.01894569 0.74264122 0.86051911 0.68625681]\n",
      " [0.5280715  0.183184   0.         0.18498694 0.64538345]\n",
      " [0.60856089 0.24239301 1.         0.54278627 0.82630314]\n",
      " [0.60353254 0.49818047 0.10885052 0.67561631 0.02856419]\n",
      " [0.85905603 0.10309689 0.82424789 0.96647094 0.66046654]]\n"
     ]
    }
   ],
   "source": [
    "matrix = np.random.random((5,5))\n",
    "print(\"Original Matrix: \")\n",
    "print(matrix)\n",
    "normalized = (matrix - np.min(matrix))/np.ptp(matrix)\n",
    "print(\"Normalized Matrix: \")\n",
    "print(normalized)"
   ]
  },
  {
   "cell_type": "markdown",
   "metadata": {
    "colab_type": "text",
    "id": "qo5SkARyqhSx"
   },
   "source": [
    "# 5.  How to find common values between two arrays?"
   ]
  },
  {
   "cell_type": "code",
   "execution_count": 27,
   "metadata": {
    "colab": {},
    "colab_type": "code",
    "id": "xyr9kNizqhSy"
   },
   "outputs": [
    {
     "name": "stdout",
     "output_type": "stream",
     "text": [
      "Array1:  [0 1 2 3 4 5]\n",
      "Array2:  [ 0  2  4  6  8 10]\n",
      "Common values between two arrays:\n",
      "[0 2 4]\n"
     ]
    }
   ],
   "source": [
    "array1 = np.array([0,1,2,3,4,5])\n",
    "print(\"Array1: \",array1)\n",
    "array2 = np.array([0,2,4,6,8,10])\n",
    "print(\"Array2: \",array2)\n",
    "print(\"Common values between two arrays:\")\n",
    "print(np.intersect1d(array1, array2))"
   ]
  },
  {
   "cell_type": "markdown",
   "metadata": {
    "colab_type": "text",
    "id": "EeC2Y2W0qhS0"
   },
   "source": [
    "# 6.How to get the dates of yesterday, today and tomorrow?"
   ]
  },
  {
   "cell_type": "code",
   "execution_count": 29,
   "metadata": {
    "colab": {},
    "colab_type": "code",
    "id": "rqHNpzBLqhS1"
   },
   "outputs": [
    {
     "name": "stdout",
     "output_type": "stream",
     "text": [
      "Yestraday:  2020-07-25\n",
      "Today:  2020-07-26\n",
      "Tomorrow:  2020-07-27\n"
     ]
    }
   ],
   "source": [
    "yesterday = np.datetime64('today', 'D') - np.timedelta64(1, 'D')\n",
    "print(\"Yestraday: \",yesterday)\n",
    "today = np.datetime64('today', 'D')\n",
    "print(\"Today: \",today)\n",
    "tomorrow = np.datetime64('today', 'D') + np.timedelta64(1, 'D')\n",
    "print(\"Tomorrow: \",tomorrow)"
   ]
  },
  {
   "cell_type": "markdown",
   "metadata": {
    "colab_type": "text",
    "id": "n_nkV5V1qhS4"
   },
   "source": [
    "# 7. Consider two random array A and B, check if they are equal"
   ]
  },
  {
   "cell_type": "code",
   "execution_count": 39,
   "metadata": {
    "colab": {},
    "colab_type": "code",
    "id": "6Y1ar-aeqhS4"
   },
   "outputs": [
    {
     "name": "stdout",
     "output_type": "stream",
     "text": [
      "Array1:  [0 1 1]\n",
      "Array2:  [0 1 1]\n",
      "The arrays are equal\n"
     ]
    }
   ],
   "source": [
    "array1 = np.random.randint(0,2,3)\n",
    "print(\"Array1: \",array1)\n",
    "array2 = np.random.randint(0,2,3)\n",
    "print(\"Array2: \",array2)\n",
    "array_equal = np.allclose(array1, array2)\n",
    "if array_equal == True:\n",
    "    print(\"The arrays are equal\")\n",
    "else:\n",
    "    print(\"The arrays are not equal\")"
   ]
  },
  {
   "cell_type": "markdown",
   "metadata": {
    "colab_type": "text",
    "id": "fr7jBR49qhS7"
   },
   "source": [
    "# 8.Create random vector of size 10 and replace the maximum value by 0 "
   ]
  },
  {
   "cell_type": "code",
   "execution_count": 44,
   "metadata": {
    "colab": {},
    "colab_type": "code",
    "id": "M3esUH4HqhS8"
   },
   "outputs": [
    {
     "name": "stdout",
     "output_type": "stream",
     "text": [
      "Array:\n",
      "[1 8 2 4 2 4 0 7 1 5]\n",
      "Replace the maximum value by 0:\n",
      "[1 0 2 4 2 4 0 7 1 5]\n"
     ]
    }
   ],
   "source": [
    "array = np.random.randint(0,10,10)\n",
    "print(\"Array:\")\n",
    "print(array)\n",
    "array[array.argmax()] = 0\n",
    "print(\"Replace the maximum value by 0:\")\n",
    "print(array)"
   ]
  },
  {
   "cell_type": "markdown",
   "metadata": {
    "colab_type": "text",
    "id": "ugM4EZEfqhS_"
   },
   "source": [
    "# 9. How to print all the values of an array?"
   ]
  },
  {
   "cell_type": "code",
   "execution_count": 54,
   "metadata": {
    "colab": {},
    "colab_type": "code",
    "id": "PxSTTw5RqhTA"
   },
   "outputs": [
    {
     "name": "stdout",
     "output_type": "stream",
     "text": [
      "[[1. 1. 1. 1. 1. 1. 1. 1. 1. 1.]\n",
      " [1. 1. 1. 1. 1. 1. 1. 1. 1. 1.]\n",
      " [1. 1. 1. 1. 1. 1. 1. 1. 1. 1.]\n",
      " [1. 1. 1. 1. 1. 1. 1. 1. 1. 1.]\n",
      " [1. 1. 1. 1. 1. 1. 1. 1. 1. 1.]\n",
      " [1. 1. 1. 1. 1. 1. 1. 1. 1. 1.]\n",
      " [1. 1. 1. 1. 1. 1. 1. 1. 1. 1.]\n",
      " [1. 1. 1. 1. 1. 1. 1. 1. 1. 1.]\n",
      " [1. 1. 1. 1. 1. 1. 1. 1. 1. 1.]\n",
      " [1. 1. 1. 1. 1. 1. 1. 1. 1. 1.]]\n"
     ]
    }
   ],
   "source": [
    "np.set_printoptions()\n",
    "x = np.ones((10, 10))\n",
    "print(x)"
   ]
  },
  {
   "cell_type": "markdown",
   "metadata": {
    "colab_type": "text",
    "id": "KHY7NjPKqhTC"
   },
   "source": [
    "# 10.Subtract the mean of each row of a matrix"
   ]
  },
  {
   "cell_type": "code",
   "execution_count": 60,
   "metadata": {
    "colab": {},
    "colab_type": "code",
    "id": "szSdLLVTqhTC"
   },
   "outputs": [
    {
     "name": "stdout",
     "output_type": "stream",
     "text": [
      "Matrix:\n",
      "[[0.38193537 0.4736971  0.14357864 0.14361059]\n",
      " [0.72307413 0.39985482 0.51814846 0.76115899]\n",
      " [0.48430802 0.80434137 0.12870168 0.45714411]\n",
      " [0.86662319 0.92160768 0.59981891 0.87278766]]\n",
      " \n",
      "Subtract the mean of each row of Matrix:\n",
      "[[ 0.09622994  0.18799168 -0.14212679 -0.14209484]\n",
      " [ 0.12251503 -0.20070428 -0.08241064  0.16059989]\n",
      " [ 0.01568422  0.33571758 -0.33992211 -0.01147968]\n",
      " [ 0.05141383  0.10639832 -0.21539045  0.0575783 ]]\n"
     ]
    }
   ],
   "source": [
    "print(\"Matrix:\")\n",
    "matrix = np.random.rand(4, 4)\n",
    "print(matrix)\n",
    "print(\" \")\n",
    "print(\"Subtract the mean of each row of Matrix:\")\n",
    "new_matrix = matrix - matrix.mean(axis=1, keepdims=True)\n",
    "print(new_matrix)"
   ]
  },
  {
   "cell_type": "markdown",
   "metadata": {
    "colab_type": "text",
    "id": "3Snyf2UiqhTF"
   },
   "source": [
    "# 11.Consider a given vector, how to add 1 to each element indexed by a second vector (be careful with repeated indices)? "
   ]
  },
  {
   "cell_type": "code",
   "execution_count": null,
   "metadata": {
    "colab": {},
    "colab_type": "code",
    "id": "drAxOFBUqhTG"
   },
   "outputs": [],
   "source": []
  },
  {
   "cell_type": "code",
   "execution_count": null,
   "metadata": {
    "colab": {},
    "colab_type": "code",
    "id": "P7eiz6Q0qhTJ"
   },
   "outputs": [],
   "source": []
  },
  {
   "cell_type": "markdown",
   "metadata": {
    "colab_type": "text",
    "id": "ZC78BXl2qhTL"
   },
   "source": [
    "# 12.How to get the diagonal of a dot product?"
   ]
  },
  {
   "cell_type": "code",
   "execution_count": 64,
   "metadata": {
    "colab": {},
    "colab_type": "code",
    "id": "-_sR7h82qhTL"
   },
   "outputs": [
    {
     "name": "stdout",
     "output_type": "stream",
     "text": [
      "Matrix1:\n",
      "[[0 1 2]\n",
      " [3 4 5]\n",
      " [6 7 8]]\n",
      "Matrix2:\n",
      "[[0 1 2]\n",
      " [3 4 5]\n",
      " [6 7 8]]\n",
      "Matrix Porducto:\n",
      "[[ 15  18  21]\n",
      " [ 42  54  66]\n",
      " [ 69  90 111]]\n",
      "Diagonal of a dot product\n",
      "[ 15  54 111]\n"
     ]
    }
   ],
   "source": [
    "matrix1 = np.arange(9).reshape(3, 3)\n",
    "print(\"Matrix1:\")\n",
    "print(matrix1)\n",
    "matrix2 = np.arange(9).reshape(3, 3)\n",
    "print(\"Matrix2:\")\n",
    "print(matrix2)\n",
    "matrix_producto = np.dot(matrix1, matrix2)\n",
    "print(\"Matrix Porducto:\")\n",
    "print(matrix_producto)\n",
    "print(\"Diagonal of a dot product\")\n",
    "print(np.diag(matrix_producto))"
   ]
  },
  {
   "cell_type": "markdown",
   "metadata": {
    "colab_type": "text",
    "id": "Ul27gxCNqhTT"
   },
   "source": [
    "# 13.How to find the most frequent value in an array?"
   ]
  },
  {
   "cell_type": "code",
   "execution_count": 66,
   "metadata": {
    "colab": {},
    "colab_type": "code",
    "id": "CbR9UVGfqhTT"
   },
   "outputs": [
    {
     "name": "stdout",
     "output_type": "stream",
     "text": [
      "Array:\n",
      "[0 2 2 0 1 1 3 3 2 1]\n",
      "Most frequent value in Array:\n",
      "1\n"
     ]
    }
   ],
   "source": [
    "import numpy as np\n",
    "array = np.random.randint(0, 5, 10)\n",
    "print(\"Array:\")\n",
    "print(array)\n",
    "print(\"Most frequent value in Array:\")\n",
    "print(np.bincount(array).argmax())"
   ]
  },
  {
   "cell_type": "markdown",
   "metadata": {
    "colab_type": "text",
    "id": "ktP_ohoiqhTV"
   },
   "source": [
    "# 14.How to get the n largest values of an array"
   ]
  },
  {
   "cell_type": "code",
   "execution_count": 74,
   "metadata": {
    "colab": {},
    "colab_type": "code",
    "id": "EaShEmjHqhTW"
   },
   "outputs": [
    {
     "name": "stdout",
     "output_type": "stream",
     "text": [
      "Array:\n",
      "[0 2 2 2 0 1 1 0 3 0]\n",
      "The n largest values of Array:\n",
      "[3]\n"
     ]
    }
   ],
   "source": [
    "import numpy as np\n",
    "array = np.random.randint(0, 5, 10)\n",
    "print(\"Array:\")\n",
    "print(array)\n",
    "np.random.shuffle(array)\n",
    "n = 1\n",
    "print(\"The n largest values of Array:\")\n",
    "print(array[np.argsort(array)[-n:]])\n"
   ]
  },
  {
   "cell_type": "markdown",
   "metadata": {
    "colab_type": "text",
    "id": "7wz6WI13qhTZ"
   },
   "source": [
    "# 15.How to create a record array from a regular array?"
   ]
  },
  {
   "cell_type": "code",
   "execution_count": 79,
   "metadata": {
    "colab": {},
    "colab_type": "code",
    "id": "Pac5PgZUqhTZ"
   },
   "outputs": [
    {
     "name": "stdout",
     "output_type": "stream",
     "text": [
      "Regular Array:\n",
      "[['1' 'Jhonatan Camasca Huamán' '15']\n",
      " ['2' 'Virginia Monroy Malca' '20']\n",
      " ['3' 'Fernando Camasca Monroy' '19']]\n",
      "\n",
      "Record Array:\n",
      "[('1', 'Jhonatan Camasca Huamán', '15')\n",
      " ('2', 'Virginia Monroy Malca', '20')\n",
      " ('3', 'Fernando Camasca Monroy', '19')]\n"
     ]
    }
   ],
   "source": [
    "import numpy as np\n",
    "array = np.array([(1,\"Jhonatan Camasca Huamán\", 15),\n",
    "                 (2,\"Virginia Monroy Malca\", 20),\n",
    "             (3,\"Fernando Camasca Monroy\", 19)])\n",
    "print(\"Regular Array:\")\n",
    "print(array)\n",
    "print(\"\\nRecord Array:\")\n",
    "record_array = np.core.records.fromarrays(array.T,\n",
    "                              names='col1, col2, col3')\n",
    "print(record_array)"
   ]
  },
  {
   "cell_type": "code",
   "execution_count": null,
   "metadata": {},
   "outputs": [],
   "source": []
  }
 ],
 "metadata": {
  "colab": {
   "name": "Numpy Assignment Questions 23 july 2020- Lets Upgrade.ipynb",
   "provenance": []
  },
  "kernelspec": {
   "display_name": "Python 3",
   "language": "python",
   "name": "python3"
  },
  "language_info": {
   "codemirror_mode": {
    "name": "ipython",
    "version": 3
   },
   "file_extension": ".py",
   "mimetype": "text/x-python",
   "name": "python",
   "nbconvert_exporter": "python",
   "pygments_lexer": "ipython3",
   "version": "3.7.6"
  }
 },
 "nbformat": 4,
 "nbformat_minor": 1
}

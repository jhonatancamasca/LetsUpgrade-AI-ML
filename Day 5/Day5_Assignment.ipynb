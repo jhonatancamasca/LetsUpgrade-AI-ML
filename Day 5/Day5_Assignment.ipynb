{
  "nbformat": 4,
  "nbformat_minor": 0,
  "metadata": {
    "colab": {
      "name": "Day5_Assignment.ipynb",
      "provenance": []
    },
    "kernelspec": {
      "name": "python3",
      "display_name": "Python 3"
    }
  },
  "cells": [
    {
      "cell_type": "markdown",
      "metadata": {
        "id": "1Fld7Zg5yeqD",
        "colab_type": "text"
      },
      "source": [
        "Question 1 :\n",
        "Write a Python program to find the first 20 non-even prime natural numbers.\n"
      ]
    },
    {
      "cell_type": "code",
      "metadata": {
        "id": "xoRW3lbux3yz",
        "colab_type": "code",
        "colab": {}
      },
      "source": [
        "def lista_primos():\n",
        "    cont=0\n",
        "    a=[]\n",
        "    puntero=0\n",
        "    num=int(input('Enter the number of non even prime numbers to be output: '))\n",
        "    for i in range(3,num**2):\n",
        "        for j in range(1,num**2):\n",
        "            if i%j==0:\n",
        "                cont=cont+1\n",
        "                if i==j:\n",
        "                    if puntero<num:\n",
        "                        if cont<=2:\n",
        "                            a.append(i)\n",
        "                            cont=0\n",
        "                            puntero=puntero+1\n",
        "                        cont=0\n",
        "\n",
        "    print('The list has',len(a),'elements and are :',a)\n",
        "\n",
        "\n"
      ],
      "execution_count": 7,
      "outputs": []
    },
    {
      "cell_type": "code",
      "metadata": {
        "id": "LcAAoU8byfIp",
        "colab_type": "code",
        "colab": {
          "base_uri": "https://localhost:8080/",
          "height": 51
        },
        "outputId": "d24207c5-a982-4221-d2fa-cdb504164717"
      },
      "source": [
        "lista_primos()\n"
      ],
      "execution_count": 8,
      "outputs": [
        {
          "output_type": "stream",
          "text": [
            "Enter the number of non even prime numbers to be output: 20\n",
            "The list has 20 elements and are : [3, 5, 7, 11, 13, 17, 19, 23, 29, 31, 37, 41, 43, 47, 53, 59, 61, 67, 71, 73]\n"
          ],
          "name": "stdout"
        }
      ]
    },
    {
      "cell_type": "markdown",
      "metadata": {
        "id": "mjAHjVB_1LHx",
        "colab_type": "text"
      },
      "source": [
        "Question 2 :\n",
        "Write a Python program to implement 15 functions of string"
      ]
    },
    {
      "cell_type": "code",
      "metadata": {
        "id": "20mVCyy-1KGZ",
        "colab_type": "code",
        "colab": {
          "base_uri": "https://localhost:8080/",
          "height": 289
        },
        "outputId": "aa47d469-fe9b-4909-b0ad-a88f01d046d1"
      },
      "source": [
        "string = \"   python is AWesome/hello. 3554  \"\n",
        "\n",
        "capitalized_string = string.capitalize()\n",
        "upper_string = string.upper()\n",
        "islower_string = string.islower()\n",
        "isnumeric= string.isnumeric()\n",
        "lstrip_string = string.lstrip()\n",
        "endswith_string = string.endswith('some.')\n",
        "encode_string = string.encode()\n",
        "isalpha_string = string.isalpha()\n",
        "isdigit_string = string.isdigit()\n",
        "isspace_string = string.isspace()\n",
        "swapcase_string = string.swapcase()\n",
        "partition_string = string.partition('/')\n",
        "rsplit_string = string.rsplit()\n",
        "rfind_string = string.rfind('is')\n",
        "replace_string = string.replace('python', 'Java')\n",
        "\n",
        "print('Old String: ', string)\n",
        "print('1-->Capitalized String:', capitalized_string)\n",
        "print('2-->Upper String:', upper_string)\n",
        "print('3-->islower String:', islower_string)\n",
        "print('4-->isnumeric String:', isnumeric)\n",
        "print('5-->lstrip String:', lstrip_string)\n",
        "print('6-->endswith String:', endswith_string)\n",
        "print('7-->encode_string String:', encode_string)\n",
        "print('8-->isalpha_string String:', isalpha_string)\n",
        "print('9-->isdigit_string:', isdigit_string)\n",
        "print('10-->isspace_string String:', isspace_string)\n",
        "print('11-->swapcase_string String:', swapcase_string)\n",
        "print('12-->partition_string String:', partition_string)\n",
        "print('13-->rsplit_string String:', rsplit_string)\n",
        "print('14-->replace_string String:', replace_string)\n",
        "print('15-->rfind_string String:', rfind_string)\n",
        "\n"
      ],
      "execution_count": 121,
      "outputs": [
        {
          "output_type": "stream",
          "text": [
            "Old String:     python is AWesome/hello. 3554  \n",
            "1-->Capitalized String:    python is awesome/hello. 3554  \n",
            "2-->Upper String:    PYTHON IS AWESOME/HELLO. 3554  \n",
            "3-->islower String: False\n",
            "4-->isnumeric String: False\n",
            "5-->lstrip String: python is AWesome/hello. 3554  \n",
            "6-->endswith String: False\n",
            "7-->encode_string String: b'   python is AWesome/hello. 3554  '\n",
            "8-->isalpha_string String: False\n",
            "9-->isdigit_string: False\n",
            "10-->isspace_string String: False\n",
            "11-->swapcase_string String:    PYTHON IS awESOME/HELLO. 3554  \n",
            "12-->partition_string String: ('   python is AWesome', '/', 'hello. 3554  ')\n",
            "13-->rsplit_string String: ['python', 'is', 'AWesome/hello.', '3554']\n",
            "14-->replace_string String:    Java is AWesome/hello. 3554  \n",
            "15-->rfind_string String: 10\n"
          ],
          "name": "stdout"
        }
      ]
    },
    {
      "cell_type": "markdown",
      "metadata": {
        "id": "phu3g0FR1pU5",
        "colab_type": "text"
      },
      "source": [
        "Question 3:\n",
        "Write a Python program to check if the given string is a Palindrome or Anagram or None of them.\n",
        "Display the message accordingly to the user.\n"
      ]
    },
    {
      "cell_type": "code",
      "metadata": {
        "id": "TjtAaZkx8H8a",
        "colab_type": "code",
        "colab": {}
      },
      "source": [
        "def check_Anag_Palind(string_input,string_2):\n",
        "  import string\n",
        "  a=list(string_input)\n",
        "  a.reverse()\n",
        "  b=''.join(a)\n",
        "  strg=list(string_input.lower())\n",
        "  strg_1=list(string_2.lower())\n",
        " \n",
        "  string_v1=[]\n",
        "  string_v2=[]\n",
        "\n",
        "  for element in strg:\n",
        "    if element not in string.whitespace:\n",
        "      string_v1.append(element)\n",
        "  for element in strg_1:\n",
        "    if element not in string.whitespace:\n",
        "      string_v2.append(element)\n",
        "  string_v1.sort(reverse=True)\n",
        "  string_v2.sort(reverse=True)\n",
        "  #print(strg)\n",
        "  #print(strg_1)   \n",
        "  if string_input==b:\n",
        "    print('The string is Palindrome')\n",
        "  if string_v1==string_v2:\n",
        "    print('The 2 strings are Anagram')\n",
        "  else:\n",
        "    print('The string is not a Palindrome, neither a Anagram')\n",
        "\n"
      ],
      "execution_count": 107,
      "outputs": []
    },
    {
      "cell_type": "code",
      "metadata": {
        "id": "6ZnRZECZ_SDe",
        "colab_type": "code",
        "colab": {
          "base_uri": "https://localhost:8080/",
          "height": 34
        },
        "outputId": "2ed9b01d-4f31-4737-b3d8-9f9061cdb3a8"
      },
      "source": [
        "check_Anag_Palind(\"McDonald's restaurants\",\"Uncle Sam's standard rot\")"
      ],
      "execution_count": 108,
      "outputs": [
        {
          "output_type": "stream",
          "text": [
            "The 2 strings are Anagram\n"
          ],
          "name": "stdout"
        }
      ]
    },
    {
      "cell_type": "code",
      "metadata": {
        "id": "6t9rf2I29Oa-",
        "colab_type": "code",
        "colab": {
          "base_uri": "https://localhost:8080/",
          "height": 51
        },
        "outputId": "abd1e627-9eec-4e5d-b0b6-9ef369e9a69c"
      },
      "source": [
        "check_Anag_Palind('kayak','ayakk')"
      ],
      "execution_count": 109,
      "outputs": [
        {
          "output_type": "stream",
          "text": [
            "The string is Palindrome\n",
            "The 2 strings are Anagram\n"
          ],
          "name": "stdout"
        }
      ]
    },
    {
      "cell_type": "code",
      "metadata": {
        "id": "0b0UrkPuBQAu",
        "colab_type": "code",
        "colab": {
          "base_uri": "https://localhost:8080/",
          "height": 34
        },
        "outputId": "eee5c472-8d46-4976-d5f3-e24859fed4a1"
      },
      "source": [
        "check_Anag_Palind('hello','heloo')"
      ],
      "execution_count": 110,
      "outputs": [
        {
          "output_type": "stream",
          "text": [
            "The string is not a Palindrome, neither a Anagram\n"
          ],
          "name": "stdout"
        }
      ]
    },
    {
      "cell_type": "markdown",
      "metadata": {
        "id": "2t6kpssw1reQ",
        "colab_type": "text"
      },
      "source": [
        "Question 4:\n",
        "Write a Python's user defined function that removes all the additional characters from the string\n",
        "and converts it finally to lower case using built-in lower(). eg: If the string is \"Dr. Darshan Ingle\n",
        "@AI-ML Trainer\", then the output be \"drdarshaningleaimltrainer\"."
      ]
    },
    {
      "cell_type": "code",
      "metadata": {
        "id": "5T6DCp6L1p2J",
        "colab_type": "code",
        "colab": {}
      },
      "source": [
        "def remove_char(string_input):\n",
        "  import string\n",
        "  a=string.punctuation\n",
        "  new_word=[]\n",
        "  for  element in ''.join(string_input):\n",
        "    if element not in a and  element not in string.whitespace :\n",
        "      new_word.append(element.lower())\n",
        "  print((''.join(new_word)).strip())\n",
        "\n"
      ],
      "execution_count": 105,
      "outputs": []
    },
    {
      "cell_type": "code",
      "metadata": {
        "id": "L-4BMTs44Yx1",
        "colab_type": "code",
        "colab": {
          "base_uri": "https://localhost:8080/",
          "height": 34
        },
        "outputId": "1e34e892-a807-421d-de92-3a8002c257b0"
      },
      "source": [
        "remove_char('     Dr. Darshan Ingle @AI-ML Trainer    ')"
      ],
      "execution_count": 106,
      "outputs": [
        {
          "output_type": "stream",
          "text": [
            "drdarshaningleaimltrainer\n"
          ],
          "name": "stdout"
        }
      ]
    },
    {
      "cell_type": "code",
      "metadata": {
        "id": "BIvnDxah1-wZ",
        "colab_type": "code",
        "colab": {}
      },
      "source": [
        ""
      ],
      "execution_count": null,
      "outputs": []
    }
  ]
}
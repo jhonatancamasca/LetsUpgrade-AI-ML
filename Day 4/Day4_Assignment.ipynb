{
  "nbformat": 4,
  "nbformat_minor": 0,
  "metadata": {
    "colab": {
      "name": "Day4_Assignment.ipynb",
      "provenance": []
    },
    "kernelspec": {
      "name": "python3",
      "display_name": "Python 3"
    }
  },
  "cells": [
    {
      "cell_type": "markdown",
      "metadata": {
        "id": "zA-OzFBXs8Ex",
        "colab_type": "text"
      },
      "source": [
        "Question 1 :\n",
        "Research on whether addition, subtraction, multiplication, division, floor division and modulo\n",
        "operations be performed on complex numbers. Based on your study, implement a Python\n",
        "program to demonstrate these operations.\n",
        "\n",
        "\n",
        "\n"
      ]
    },
    {
      "cell_type": "code",
      "metadata": {
        "id": "I0SEUJNls5FY",
        "colab_type": "code",
        "colab": {}
      },
      "source": [
        "def operations(num1,num2):\n",
        "  add=num1+num2\n",
        "  print(\"the result of the addition operation is :\", add )\n",
        "  sub=num1-num2\n",
        "  print(\"the result of the subtraction operation is :\", sub )\n",
        "  mul=num1*num2\n",
        "  print(\"the result of the multiplication operation is :\", mul )\n",
        "  div=num1/num2\n",
        "  print(\"the result of the division operation is :\", div )\n",
        "  print(\"can't mod complex numbers\")\n",
        "  print(\"can't take floor of complex number.\")\n"
      ],
      "execution_count": 20,
      "outputs": []
    },
    {
      "cell_type": "code",
      "metadata": {
        "id": "y1pWeVT6tX9U",
        "colab_type": "code",
        "colab": {
          "base_uri": "https://localhost:8080/",
          "height": 119
        },
        "outputId": "6481d699-52fb-4735-d165-47c6b5202f4d"
      },
      "source": [
        "operations(3+2j,5+8j)"
      ],
      "execution_count": 21,
      "outputs": [
        {
          "output_type": "stream",
          "text": [
            "the result of the addition operation is : (8+10j)\n",
            "the result of the subtraction operation is : (-2-6j)\n",
            "the result of the multiplication operation is : (-1+34j)\n",
            "the result of the division operation is : (0.34831460674157305-0.15730337078651685j)\n",
            "can't mod complex numbers\n",
            "can't take floor of complex number.\n"
          ],
          "name": "stdout"
        }
      ]
    },
    {
      "cell_type": "markdown",
      "metadata": {
        "id": "pCwe1pflvFxi",
        "colab_type": "text"
      },
      "source": [
        "Question 2 :\n",
        "Research on range() functions and its parameters. Create a markdown cell and write in your own\n",
        "words (no copy-paste from google please) what you understand about it. Implement a small\n",
        "program of your choice on the same."
      ]
    },
    {
      "cell_type": "markdown",
      "metadata": {
        "id": "JfCyaFCBKSgS",
        "colab_type": "text"
      },
      "source": [
        "The range function returns a sequence of numbers. By default these function starts with 0 and increments by 1 (step 1) and stops before a number that must be specified. The structure of these function is :\n",
        "range(start, stop, step)\n",
        "the parameter start indicates the number of the first element that is going to be returned by the function\n",
        "the parameter stop is the number that will not appear in the sequence and indicates the stop criteria of the sequence\n",
        "the step is the incrementation of the sequence"
      ]
    },
    {
      "cell_type": "code",
      "metadata": {
        "id": "yAu52emiKqy9",
        "colab_type": "code",
        "colab": {
          "base_uri": "https://localhost:8080/",
          "height": 374
        },
        "outputId": "19bf4835-d485-430b-d98a-df94b47cfc8d"
      },
      "source": [
        "for i in range(1,22,1):\n",
        "  print(i)"
      ],
      "execution_count": 44,
      "outputs": [
        {
          "output_type": "stream",
          "text": [
            "1\n",
            "2\n",
            "3\n",
            "4\n",
            "5\n",
            "6\n",
            "7\n",
            "8\n",
            "9\n",
            "10\n",
            "11\n",
            "12\n",
            "13\n",
            "14\n",
            "15\n",
            "16\n",
            "17\n",
            "18\n",
            "19\n",
            "20\n",
            "21\n"
          ],
          "name": "stdout"
        }
      ]
    },
    {
      "cell_type": "code",
      "metadata": {
        "id": "EJiQHI-dtaCu",
        "colab_type": "code",
        "colab": {
          "base_uri": "https://localhost:8080/",
          "height": 170
        },
        "outputId": "d16b8f8e-aa14-4e01-b7b0-7ec03f21668a"
      },
      "source": [
        "x = range(3, 20, 2)\n",
        "for n in x:\n",
        "  print(n)"
      ],
      "execution_count": 37,
      "outputs": [
        {
          "output_type": "stream",
          "text": [
            "3\n",
            "5\n",
            "7\n",
            "9\n",
            "11\n",
            "13\n",
            "15\n",
            "17\n",
            "19\n"
          ],
          "name": "stdout"
        }
      ]
    },
    {
      "cell_type": "markdown",
      "metadata": {
        "id": "xhQQDQRMvb0w",
        "colab_type": "text"
      },
      "source": [
        "Question 3:\n",
        " Consider two numbers. Perform their subtraction and if the result of subtraction is greater than\n",
        "25, print their multiplication result else print their division result.\n"
      ]
    },
    {
      "cell_type": "code",
      "metadata": {
        "id": "eqTSDyy7t-RX",
        "colab_type": "code",
        "colab": {}
      },
      "source": [
        "def operation(num1,num2):\n",
        "  sub=num1-num2\n",
        "  if sub>25:\n",
        "    result=num1*num2\n",
        "  else:\n",
        "    result=num1/num2\n",
        "  return result"
      ],
      "execution_count": 22,
      "outputs": []
    },
    {
      "cell_type": "code",
      "metadata": {
        "id": "sBl1q6Cvv6vq",
        "colab_type": "code",
        "colab": {
          "base_uri": "https://localhost:8080/",
          "height": 34
        },
        "outputId": "c295f4d8-71bd-4818-cd95-a3fe5f0eb579"
      },
      "source": [
        " operation(27,2)"
      ],
      "execution_count": 28,
      "outputs": [
        {
          "output_type": "execute_result",
          "data": {
            "text/plain": [
              "13.5"
            ]
          },
          "metadata": {
            "tags": []
          },
          "execution_count": 28
        }
      ]
    },
    {
      "cell_type": "markdown",
      "metadata": {
        "id": "3qOiWbj3vetI",
        "colab_type": "text"
      },
      "source": [
        "Question 4:\n",
        "Consider a list of 10 elements of integer values. If the number in the list is divisible by 2, print the\n",
        "result as \"square of that number minus 2\".\n"
      ]
    },
    {
      "cell_type": "code",
      "metadata": {
        "id": "W1cALZoKviCJ",
        "colab_type": "code",
        "colab": {
          "base_uri": "https://localhost:8080/",
          "height": 102
        },
        "outputId": "c522fc2a-9ce1-441f-9d36-57625ba65e1c"
      },
      "source": [
        "list_num=[1,2,3,4,5,6,7,8,9,10]\n",
        "for element in list_num:\n",
        "  if element%2==0:\n",
        "    print(\"square of that number minus 2 : \",element**(2)-2)"
      ],
      "execution_count": 30,
      "outputs": [
        {
          "output_type": "stream",
          "text": [
            "square of that number minus 2 :  2\n",
            "square of that number minus 2 :  14\n",
            "square of that number minus 2 :  34\n",
            "square of that number minus 2 :  62\n",
            "square of that number minus 2 :  98\n"
          ],
          "name": "stdout"
        }
      ]
    },
    {
      "cell_type": "markdown",
      "metadata": {
        "id": "efl8r9AbvktK",
        "colab_type": "text"
      },
      "source": [
        "Question 5:\n",
        "Consider a list of 10 elements. Print all the elements in the list which are greater than 7 when that\n",
        "number is divided 2.\n"
      ]
    },
    {
      "cell_type": "code",
      "metadata": {
        "id": "7c7Rl3WPvlbJ",
        "colab_type": "code",
        "colab": {
          "base_uri": "https://localhost:8080/",
          "height": 68
        },
        "outputId": "beb0f0f6-95c8-49d2-d5cf-9c2815aa178f"
      },
      "source": [
        "list_num=[1,2,3,4,5,6,14,15,90000,100000]\n",
        "for element in list_num:\n",
        "  if (element/2)>7:\n",
        "    print(\"Number greater than 7 when divided by 2-> \",element)"
      ],
      "execution_count": 35,
      "outputs": [
        {
          "output_type": "stream",
          "text": [
            "Number greater than 7 when divided by 2->  15\n",
            "Number greater than 7 when divided by 2->  90000\n",
            "Number greater than 7 when divided by 2->  100000\n"
          ],
          "name": "stdout"
        }
      ]
    },
    {
      "cell_type": "code",
      "metadata": {
        "id": "hZQhJ7U5xUL5",
        "colab_type": "code",
        "colab": {}
      },
      "source": [
        ""
      ],
      "execution_count": null,
      "outputs": []
    }
  ]
}